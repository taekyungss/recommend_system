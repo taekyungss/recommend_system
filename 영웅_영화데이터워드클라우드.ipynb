{
  "nbformat": 4,
  "nbformat_minor": 0,
  "metadata": {
    "colab": {
      "private_outputs": true,
      "provenance": [],
      "mount_file_id": "1oZ_rhFjp8-TF23oEKD9eS9ZMeKfJaUAr",
      "authorship_tag": "ABX9TyOJZklAvPo0d165uHOH6hVJ",
      "include_colab_link": true
    },
    "kernelspec": {
      "name": "python3",
      "display_name": "Python 3"
    },
    "language_info": {
      "name": "python"
    }
  },
  "cells": [
    {
      "cell_type": "markdown",
      "metadata": {
        "id": "view-in-github",
        "colab_type": "text"
      },
      "source": [
        "<a href=\"https://colab.research.google.com/github/taekyungss/recommend_system/blob/main/%EC%98%81%EC%9B%85_%EC%98%81%ED%99%94%EB%8D%B0%EC%9D%B4%ED%84%B0%EC%9B%8C%EB%93%9C%ED%81%B4%EB%9D%BC%EC%9A%B0%EB%93%9C.ipynb\" target=\"_parent\"><img src=\"https://colab.research.google.com/assets/colab-badge.svg\" alt=\"Open In Colab\"/></a>"
      ]
    },
    {
      "cell_type": "code",
      "source": [
        "%%bash\n",
        "apt-get update\n",
        "apt-get install g++ openjdk-8-jdk python-dev python3-dev\n",
        "pip3 install JPype1\n",
        "pip3 install konlpy\n",
        "\n",
        "%env JAVA_HOME \"/usr/lib/jvm/java-8-openjdk-amd64\"\n",
        "\n",
        "%%bash\n",
        "bash <(curl -s https://raw.githubusercontent.com/konlpy/konlpy/master/scripts/mecab.sh)\n",
        "pip3 install /tmp/mecab-python-0.996"
      ],
      "metadata": {
        "id": "BIJrwnT6w55H"
      },
      "execution_count": null,
      "outputs": []
    },
    {
      "cell_type": "code",
      "source": [
        "from wordcloud import WordCloud\n",
        "from wordcloud.wordcloud import FONT_PATH\n",
        "import matplotlib.pyplot as plt\n",
        "from collections import Counter\n",
        "from konlpy.tag import Okt\n",
        "from PIL import Image\n",
        "import numpy as np\n",
        "import pandas as pd"
      ],
      "metadata": {
        "id": "C5oGZpQ-w2KD"
      },
      "execution_count": null,
      "outputs": []
    },
    {
      "cell_type": "code",
      "source": [
        "import pandas as pd"
      ],
      "metadata": {
        "id": "PEmZuxFYvO3r"
      },
      "execution_count": null,
      "outputs": []
    },
    {
      "cell_type": "code",
      "execution_count": null,
      "metadata": {
        "id": "vBecXibLvIKs"
      },
      "outputs": [],
      "source": [
        "df = pd.read_csv(\"/content/drive/MyDrive/Colab Notebooks/recommend_system/samples.csv\")\n",
        "df.head(20)"
      ]
    },
    {
      "cell_type": "code",
      "source": [
        "# 카테고리별 값 세기\n",
        "df[\"movie\"].value_counts()"
      ],
      "metadata": {
        "id": "a7w0_TghvvpR"
      },
      "execution_count": null,
      "outputs": []
    },
    {
      "cell_type": "code",
      "source": [
        "hero_df = df[df[\"movie\"]==\"영웅\"]\n",
        "hero_review = hero_df[[\"sentence\"]]\n",
        "hero_review.to_csv(\"hero_review.txt\", index=False)"
      ],
      "metadata": {
        "id": "t_18_f_svNYb"
      },
      "execution_count": null,
      "outputs": []
    },
    {
      "cell_type": "code",
      "source": [
        "with open(\"hero_review.txt\", 'r', encoding=\"utf-8\") as f:\n",
        "  text = f.read()\n",
        "text"
      ],
      "metadata": {
        "id": "Mcy5oh4RvmrZ"
      },
      "execution_count": null,
      "outputs": []
    },
    {
      "cell_type": "code",
      "source": [
        "okt = Okt()\n",
        "nouns = okt.nouns(text)\n",
        "\n",
        "words = [n for n in nouns if len(n)>1]\n",
        "c = Counter(words)"
      ],
      "metadata": {
        "id": "lSmWaS_6wwI6"
      },
      "execution_count": null,
      "outputs": []
    },
    {
      "cell_type": "code",
      "source": [
        "!apt-get update -qq\n",
        "!apt-get install fonts-nanum* -qq\n",
        "\n",
        "FONT_PATH = \"/usr/share/fonts/truetype/nanum/NanumGothic.ttf\"\n",
        "\n",
        "\n",
        "wc = WordCloud(FONT_PATH, width = 400, height=400,\n",
        "               scale=2.0, max_font_size = 250,\n",
        "               background_color=\"white\", colormap=\"PuBu\")\n",
        "gen = wc.generate_from_frequencies(c)\n",
        "plt.figure()\n",
        "plt.imshow(gen, interpolation=\"bilinear\")\n",
        "plt.axis(\"off\")\n",
        "plt.show()"
      ],
      "metadata": {
        "id": "s-BjbSY7x5oA"
      },
      "execution_count": null,
      "outputs": []
    },
    {
      "cell_type": "code",
      "source": [
        "wc.to_file(\"영웅_영화리뷰데이터_워드클라우드.png\")"
      ],
      "metadata": {
        "id": "dstFSeX4x-HY"
      },
      "execution_count": null,
      "outputs": []
    }
  ]
}