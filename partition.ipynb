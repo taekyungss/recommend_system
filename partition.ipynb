{
  "nbformat": 4,
  "nbformat_minor": 0,
  "metadata": {
    "colab": {
      "private_outputs": true,
      "provenance": [],
      "mount_file_id": "13LpYpf_Khro7nVCq7yabQGYeSrQr-MzX",
      "authorship_tag": "ABX9TyOo+R+t0OW+6fAOPv2qyW/1",
      "include_colab_link": true
    },
    "kernelspec": {
      "name": "python3",
      "display_name": "Python 3"
    },
    "language_info": {
      "name": "python"
    }
  },
  "cells": [
    {
      "cell_type": "markdown",
      "metadata": {
        "id": "view-in-github",
        "colab_type": "text"
      },
      "source": [
        "<a href=\"https://colab.research.google.com/github/taekyungss/recommend_system/blob/main/partition.ipynb\" target=\"_parent\"><img src=\"https://colab.research.google.com/assets/colab-badge.svg\" alt=\"Open In Colab\"/></a>"
      ]
    },
    {
      "cell_type": "code",
      "execution_count": null,
      "metadata": {
        "id": "_s9PbIeY0Xnv"
      },
      "outputs": [],
      "source": [
        "import numpy as np; np.random.seed(1234)\n",
        "import pandas as pd\n",
        "\n",
        "\n",
        "ntrain = 150000\n",
        "\n",
        "data = pd.read_csv('/content/drive/MyDrive/Colab Notebooks/recommend_system/samples.csv', sep='\\t', quoting=3)\n",
        "data = pd.DataFrame(np.random.permutation(data))\n",
        "train, test = data[:ntrain], data[ntrain:]\n",
        "\n",
        "header = 'id document label'.split()\n",
        "train.to_csv( sep='\\t', index=False, header=header)\n",
        "test.to_csv( sep='\\t', index=False, header=header)"
      ]
    }
  ]
}