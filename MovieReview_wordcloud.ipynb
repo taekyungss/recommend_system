{
  "nbformat": 4,
  "nbformat_minor": 0,
  "metadata": {
    "colab": {
      "private_outputs": true,
      "provenance": [],
      "collapsed_sections": [
        "oxwMyLTrUs6J"
      ],
      "mount_file_id": "1-rqMSMOaL7SFqQ6MeNtyTH6bwn6x8yAZ",
      "authorship_tag": "ABX9TyNNd2t1l4/WzYH4GLi3VasP",
      "include_colab_link": true
    },
    "kernelspec": {
      "name": "python3",
      "display_name": "Python 3"
    },
    "language_info": {
      "name": "python"
    }
  },
  "cells": [
    {
      "cell_type": "markdown",
      "metadata": {
        "id": "view-in-github",
        "colab_type": "text"
      },
      "source": [
        "<a href=\"https://colab.research.google.com/github/taekyungss/recommend_system/blob/main/MovieReview_wordcloud.ipynb\" target=\"_parent\"><img src=\"https://colab.research.google.com/assets/colab-badge.svg\" alt=\"Open In Colab\"/></a>"
      ]
    },
    {
      "cell_type": "markdown",
      "source": [
        "### 시도1. 실패.."
      ],
      "metadata": {
        "id": "oxwMyLTrUs6J"
      }
    },
    {
      "cell_type": "code",
      "execution_count": null,
      "metadata": {
        "id": "i2333oGsGiny"
      },
      "outputs": [],
      "source": [
        "import pandas as pd"
      ]
    },
    {
      "cell_type": "code",
      "source": [
        "data = pd.read_csv(\"/content/drive/MyDrive/Colab Notebooks/recommend_system/samples.csv\")\n",
        "data.head()"
      ],
      "metadata": {
        "id": "KlbavcvuHcZw"
      },
      "execution_count": null,
      "outputs": []
    },
    {
      "cell_type": "code",
      "source": [
        "review = data[\"sentence\"]\n",
        "review.head()"
      ],
      "metadata": {
        "id": "wFQDmzHuHutC"
      },
      "execution_count": null,
      "outputs": []
    },
    {
      "cell_type": "code",
      "source": [
        "from collections import Counter"
      ],
      "metadata": {
        "id": "8SZEMh1OH2k6"
      },
      "execution_count": null,
      "outputs": []
    },
    {
      "cell_type": "code",
      "source": [
        "review_data = []\n",
        "for element in review:\n",
        "  review_data.append(element)\n",
        "\n",
        "print(review_data)\n",
        "print(len(review_data))"
      ],
      "metadata": {
        "id": "ULjs62T7IjLg"
      },
      "execution_count": null,
      "outputs": []
    },
    {
      "cell_type": "code",
      "source": [
        "# !apt-get update\n",
        "# !apt-get install g++ openjdk-8-jdk \n",
        "# !pip install konlpy JPype1-py3\n",
        "# !bash <(curl -s https://raw.githubusercontent.com/konlpy/konlpy/master/scripts/mecab.sh)"
      ],
      "metadata": {
        "id": "VmYLiEiNJaUK"
      },
      "execution_count": null,
      "outputs": []
    },
    {
      "cell_type": "code",
      "source": [
        "# 트위터 패키지 안에 konlpy 모듈 호출하기\n",
        "\n",
        "from konlpy.tag import Twitter\n",
        "twitter = Twitter()"
      ],
      "metadata": {
        "id": "DwBsVgSaI-Gy"
      },
      "execution_count": null,
      "outputs": []
    },
    {
      "cell_type": "code",
      "source": [
        "# 각 문장별 형태소 구분하기\n",
        "\n",
        "sentence_tag = []\n",
        "for sentence in review_data:\n",
        "  morph = twitter.pos(sentence)\n",
        "  sentence_tag.append(morph)\n",
        "  \n",
        "print(sentence_tag)\n",
        "print(len(sentence_tag))\n"
      ],
      "metadata": {
        "id": "qUqVD26EJSMo"
      },
      "execution_count": null,
      "outputs": []
    },
    {
      "cell_type": "code",
      "source": [
        "review.head(10)\n",
        "review_10 = review.head(40)\n",
        "print(review_10)"
      ],
      "metadata": {
        "id": "WodDzz00SOIG"
      },
      "execution_count": null,
      "outputs": []
    },
    {
      "cell_type": "code",
      "source": [
        "noun_adj_list=[]\n",
        "for st1 in sentence_tag:\n",
        "  for word, tag in st1:\n",
        "    if tag in [\"Noun\",\"Adjective\"]:\n",
        "      noun_adj_list.append(word)\n",
        "\n",
        "# 선별된 명사, 형용사에 대한 빈도수 계산, 상위 빈도 10위까지 출력\n",
        "counts = Counter(noun_adj_list)\n",
        "print(counts.most_common(10))"
      ],
      "metadata": {
        "id": "8IYbFpNGK22e"
      },
      "execution_count": null,
      "outputs": []
    },
    {
      "cell_type": "code",
      "source": [
        "# 워드클라우드 만들기\n",
        "{\n",
        "    \"name\": 'NotoSansKR',\n",
        " \"ttf\": \"NotoSansKR-Medium.otf\"\n",
        "}\n"
      ],
      "metadata": {
        "id": "tMhu4lgGL-XP"
      },
      "execution_count": null,
      "outputs": []
    },
    {
      "cell_type": "markdown",
      "source": [
        "### 시도2 - 성공"
      ],
      "metadata": {
        "id": "gPURPQ1hUwVa"
      }
    },
    {
      "cell_type": "code",
      "source": [
        "# Konlpy와 Mecab 설치하기\n",
        "\n",
        "# %%bash\n",
        "# apt-get update\n",
        "# apt-get install g++ openjdk-8-jdk python-dev python3-dev\n",
        "# pip3 install JPype1\n",
        "# pip3 install konlpy\n",
        "\n",
        "# %env JAVA_HOME \"/usr/lib/jvm/java-8-openjdk-amd64\"\n",
        "\n",
        "# %%bash\n",
        "# bash <(curl -s https://raw.githubusercontent.com/konlpy/konlpy/master/scripts/mecab.sh)\n",
        "# pip3 install /tmp/mecab-python-0.996\n",
        "\n",
        "import konlpy\n",
        "from konlpy.tag import Kkma, Komoran, Hannanum, Okt\n",
        "from konlpy.utils import pprint\n",
        "from konlpy.tag import Mecab\n",
        "\n",
        "mecab = Mecab()\n",
        "sentence = \"안녕하세요 저는 천재입니다.\"\n",
        "temp_X = mecab.morphs(sentence)\n",
        "temp_X"
      ],
      "metadata": {
        "id": "UTPoYNVKUIds"
      },
      "execution_count": null,
      "outputs": []
    },
    {
      "cell_type": "code",
      "source": [
        "from wordcloud import WordCloud\n",
        "from wordcloud.wordcloud import FONT_PATH\n",
        "import matplotlib.pyplot as plt\n",
        "from collections import Counter\n",
        "from konlpy.tag import Okt\n",
        "from PIL import Image\n",
        "import numpy as np\n",
        "import pandas as pd"
      ],
      "metadata": {
        "id": "8beGbl7zTLEh"
      },
      "execution_count": null,
      "outputs": []
    },
    {
      "cell_type": "code",
      "source": [
        "# example\n",
        "\n",
        "# with open('대한민국헌법.txt', 'r', encoding='utf-8') as f:\n",
        "#   text = f.read()\n",
        "\n",
        "# print(text)\n",
        "# okt = Okt()\n",
        "# nouns = okt.nouns(text) # 명사만 추출\n",
        "\n",
        "# words = [n for n in nouns if len(n) > 1] # 단어의 길이가 1개인 것은 제외\n",
        "\n",
        "# c = Counter(words)"
      ],
      "metadata": {
        "id": "S_KH6cnuWckH"
      },
      "execution_count": null,
      "outputs": []
    },
    {
      "cell_type": "code",
      "source": [
        "# print(c)"
      ],
      "metadata": {
        "id": "DcBZyphkWjtA"
      },
      "execution_count": null,
      "outputs": []
    },
    {
      "cell_type": "code",
      "source": [
        "df = pd.read_csv(\"/content/drive/MyDrive/Colab Notebooks/recommend_system/samples.csv\")\n",
        "\n",
        "text = df[[\"sentence\"]]\n",
        "text"
      ],
      "metadata": {
        "id": "BrDQkOoyTeg2"
      },
      "execution_count": null,
      "outputs": []
    },
    {
      "cell_type": "code",
      "source": [
        "text.to_csv(\"review.txt\", index=False)"
      ],
      "metadata": {
        "id": "Dj-LbvwiVC-b"
      },
      "execution_count": null,
      "outputs": []
    },
    {
      "cell_type": "code",
      "source": [
        "with open(\"review.txt\", 'r', encoding=\"utf-8\") as f:\n",
        "  text = f.read()\n",
        "\n"
      ],
      "metadata": {
        "id": "JYoTitctZMP5"
      },
      "execution_count": null,
      "outputs": []
    },
    {
      "cell_type": "code",
      "source": [
        "okt = Okt()\n",
        "nouns = okt.nouns(text)\n",
        "\n",
        "words = [n for n in nouns if len(n)>1]\n",
        "c = Counter(words)"
      ],
      "metadata": {
        "id": "R0akn_oXZeY6"
      },
      "execution_count": null,
      "outputs": []
    },
    {
      "cell_type": "code",
      "source": [
        "print(c)"
      ],
      "metadata": {
        "id": "qXtU2f6OaFTU"
      },
      "execution_count": null,
      "outputs": []
    },
    {
      "cell_type": "code",
      "source": [
        "!apt-get update -qq\n",
        "!apt-get install fonts-nanum* -qq"
      ],
      "metadata": {
        "id": "ra4vs9gncDVj"
      },
      "execution_count": null,
      "outputs": []
    },
    {
      "cell_type": "code",
      "source": [
        "FONT_PATH = \"/usr/share/fonts/truetype/nanum/NanumGothic.ttf\"\n",
        "\n",
        "\n",
        "wc = WordCloud(FONT_PATH, width = 400, height=400,\n",
        "               scale=2.0, max_font_size = 250,\n",
        "               background_color=\"white\", colormap=\"PuBu\")\n",
        "gen = wc.generate_from_frequencies(c)\n",
        "plt.figure()\n",
        "plt.imshow(gen, interpolation=\"bilinear\")\n",
        "plt.axis(\"off\")\n",
        "plt.show()"
      ],
      "metadata": {
        "id": "NEkv_Rx_aIHK"
      },
      "execution_count": null,
      "outputs": []
    },
    {
      "cell_type": "code",
      "source": [
        "wc.to_file(\"영화리뷰데이터_워드클라우드.png\")"
      ],
      "metadata": {
        "id": "MRw1qxudfvW_"
      },
      "execution_count": null,
      "outputs": []
    }
  ]
}