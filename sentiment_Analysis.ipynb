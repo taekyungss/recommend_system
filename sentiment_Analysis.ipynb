{
  "nbformat": 4,
  "nbformat_minor": 0,
  "metadata": {
    "colab": {
      "private_outputs": true,
      "provenance": [],
      "mount_file_id": "1OgRS3Keb39FdUVURrZswqEIHUJZuMIRO",
      "authorship_tag": "ABX9TyNcN559B2rn2bsJEJYyvK2u",
      "include_colab_link": true
    },
    "kernelspec": {
      "name": "python3",
      "display_name": "Python 3"
    },
    "language_info": {
      "name": "python"
    }
  },
  "cells": [
    {
      "cell_type": "markdown",
      "metadata": {
        "id": "view-in-github",
        "colab_type": "text"
      },
      "source": [
        "<a href=\"https://colab.research.google.com/github/taekyungss/recommend_system/blob/main/sentiment_Analysis.ipynb\" target=\"_parent\"><img src=\"https://colab.research.google.com/assets/colab-badge.svg\" alt=\"Open In Colab\"/></a>"
      ]
    },
    {
      "cell_type": "code",
      "source": [
        "# !curl -s https://raw.githubusercontent.com/teddylee777/machine-learning/master/99-Misc/01-Colab/mecab-colab.sh | bash"
      ],
      "metadata": {
        "id": "IQ4JqJLDulEs"
      },
      "execution_count": null,
      "outputs": []
    },
    {
      "cell_type": "code",
      "source": [
        "import tensorflow as tf\n",
        "\n",
        "tf.__version__"
      ],
      "metadata": {
        "id": "_FdFcmPPvcCJ"
      },
      "execution_count": null,
      "outputs": []
    },
    {
      "cell_type": "code",
      "source": [
        "# !pip install tensorflow\n"
      ],
      "metadata": {
        "id": "K5oXjf18wBFf"
      },
      "execution_count": null,
      "outputs": []
    },
    {
      "cell_type": "code",
      "source": [
        "!pip install keras"
      ],
      "metadata": {
        "id": "WdnCIJ2exLYo"
      },
      "execution_count": null,
      "outputs": []
    },
    {
      "cell_type": "code",
      "execution_count": null,
      "metadata": {
        "id": "DxPsa0pNt9Yk"
      },
      "outputs": [],
      "source": [
        "import pickle\n",
        "import pandas as pd\n",
        "import numpy as np\n",
        "import matplotlib.pyplot as plt\n",
        "import re\n",
        "import urllib.request\n",
        "from konlpy.tag import Okt\n",
        "from tqdm import tqdm\n",
        "# from tensorflow.keras.preprocessing.text import Tokenizer\n",
        "# from tensorflow.keras.preprocessing.sequence import pad_sequence"
      ]
    },
    {
      "cell_type": "code",
      "source": [
        "import tensorflow as tf\n",
        "from tensorflow.keras.preprocessing.text import Tokenizer\n",
        "from tensorflow.keras.preprocessing.sequence import pad_sequences"
      ],
      "metadata": {
        "id": "n3pwEARSuQWo"
      },
      "execution_count": null,
      "outputs": []
    },
    {
      "cell_type": "code",
      "source": [
        "! pip install konlpy"
      ],
      "metadata": {
        "id": "H_90S5HAcpo8"
      },
      "execution_count": null,
      "outputs": []
    },
    {
      "cell_type": "code",
      "source": [
        "!pip install pygame\n",
        "!pip install pytagcloud\n",
        "!pip install simplejson"
      ],
      "metadata": {
        "id": "fnxBtTMsdNFU"
      },
      "execution_count": null,
      "outputs": []
    },
    {
      "cell_type": "code",
      "source": [
        "import pandas as pd\n",
        "import numpy as np\n",
        "import matplotlib.pyplot as plt\n",
        "import seaborn as sns\n",
        "\n",
        "# 경고 뜨지 않게 설정\n",
        "import warnings\n",
        "warnings.filterwarnings('ignore')\n",
        "\n",
        "# 그래프 설정\n",
        "plt.rcParams['font.family'] = 'Malgun Gothic'\n",
        "# plt.rcParams['font.family'] = 'AppleGothic'\n",
        "plt.rcParams['font.size'] = 16\n",
        "plt.rcParams['figure.figsize'] = 20, 10\n",
        "plt.rcParams['axes.unicode_minus'] = False\n",
        "\n",
        "# 데이터 전처리 알고리즘\n",
        "from sklearn.preprocessing import LabelEncoder\n",
        "from sklearn.preprocessing import StandardScaler\n",
        "\n",
        "# 학습용과 검증용으로 나누는 함수\n",
        "from sklearn.model_selection import train_test_split\n",
        "\n",
        "# 교차 검증\n",
        "# 지표를 하나만 설정할 경우\n",
        "from sklearn.model_selection import cross_val_score\n",
        "# 지표를 하나 이상 설정할 경우\n",
        "from sklearn.model_selection import cross_validate\n",
        "from sklearn.model_selection import KFold\n",
        "from sklearn.model_selection import StratifiedKFold\n",
        "\n",
        "# 모델의 최적의 하이퍼파라미터를 찾기 위한 도구\n",
        "from sklearn.model_selection import GridSearchCV\n",
        "\n",
        "# 평가함수\n",
        "# 분류용\n",
        "from sklearn.metrics import accuracy_score\n",
        "from sklearn.metrics import precision_score\n",
        "from sklearn.metrics import recall_score\n",
        "from sklearn.metrics import f1_score\n",
        "from sklearn.metrics import roc_auc_score\n",
        "\n",
        "# 회귀용\n",
        "from sklearn.metrics import r2_score\n",
        "from sklearn.metrics import mean_squared_error\n",
        "\n",
        "# 머신러닝 알고리즘 - 분류\n",
        "from sklearn.neighbors import KNeighborsClassifier\n",
        "from sklearn.linear_model import LogisticRegression\n",
        "from sklearn.svm import SVC\n",
        "from sklearn.tree import DecisionTreeClassifier\n",
        "from sklearn.ensemble import RandomForestClassifier\n",
        "from sklearn.ensemble import AdaBoostClassifier\n",
        "from sklearn.ensemble import GradientBoostingClassifier\n",
        "from lightgbm import LGBMClassifier\n",
        "from xgboost import XGBClassifier\n",
        "from sklearn.ensemble import VotingClassifier\n",
        "\n",
        "# 머신러닝 알고리즘 - 회귀\n",
        "from sklearn.neighbors import KNeighborsRegressor\n",
        "from sklearn.linear_model import LinearRegression\n",
        "from sklearn.linear_model import Ridge\n",
        "from sklearn.linear_model import Lasso\n",
        "from sklearn.linear_model import ElasticNet\n",
        "from sklearn.svm import SVR\n",
        "from sklearn.tree import DecisionTreeRegressor\n",
        "from sklearn.ensemble import RandomForestRegressor\n",
        "from sklearn.ensemble import AdaBoostRegressor\n",
        "from sklearn.ensemble import GradientBoostingRegressor\n",
        "from lightgbm import LGBMRegressor\n",
        "from xgboost import XGBRegressor\n",
        "from sklearn.ensemble import VotingRegressor\n",
        "\n",
        "# 차원축소\n",
        "from sklearn.decomposition import PCA\n",
        "from sklearn.discriminant_analysis import LinearDiscriminantAnalysis\n",
        "\n",
        "# 군집화\n",
        "from sklearn.cluster import KMeans\n",
        "from sklearn.cluster import MeanShift\n",
        "from sklearn.cluster import estimate_bandwidth\n",
        "\n",
        "\n",
        "\n",
        "# ARIMA (시계열 예측)\n",
        "from statsmodels.tsa.arima_model import ARIMA\n",
        "import statsmodels.api as sm\n",
        "\n",
        "\n",
        "# 시간 측정을 위한 시간 모듈\n",
        "import datetime\n",
        "\n",
        "# 주식정보\n",
        "from pandas_datareader import data\n",
        "\n",
        "# 형태소 벡터를 생성하기 위한 라이브러리\n",
        "from sklearn.feature_extraction.text import CountVectorizer\n",
        "# 형태소 벡터를 학습 벡터로 변환한다.\n",
        "from sklearn.feature_extraction.text import TfidfTransformer\n",
        "\n",
        "\n",
        "# 데이터 수집\n",
        "import requests\n",
        "from bs4 import BeautifulSoup\n",
        "import re\n",
        "import time\n",
        "import os\n",
        "import json\n",
        "\n",
        "# 한국어 형태소 분석\n",
        "from konlpy.tag import Okt, Hannanum, Kkma, Mecab, Komoran\n",
        "\n",
        "# 워드 클라우드를 위한 라이브러리\n",
        "from collections import Counter\n",
        "import pytagcloud\n",
        "from IPython.display import Image\n",
        "\n",
        "# 저장\n",
        "import pickle"
      ],
      "metadata": {
        "id": "QHaFVUSyysl-"
      },
      "execution_count": null,
      "outputs": []
    },
    {
      "cell_type": "code",
      "source": [
        "df = pd.read_csv(\"/content/drive/MyDrive/Colab Notebooks/recommend_system/samples.csv\")"
      ],
      "metadata": {
        "id": "Bp89ELiBcwPl"
      },
      "execution_count": null,
      "outputs": []
    },
    {
      "cell_type": "code",
      "source": [
        "df"
      ],
      "metadata": {
        "id": "gCs1UnOEdtuM"
      },
      "execution_count": null,
      "outputs": []
    },
    {
      "cell_type": "code",
      "source": [
        "df[\"y\"] = [1 if t else 0 for t in list(df[\"score\"]>=7)]\n",
        "df"
      ],
      "metadata": {
        "id": "iUqotxKnf_om"
      },
      "execution_count": null,
      "outputs": []
    },
    {
      "cell_type": "code",
      "source": [
        "df[df[\"y\"]==0]"
      ],
      "metadata": {
        "id": "eVfxHJoOfM8B"
      },
      "execution_count": null,
      "outputs": []
    },
    {
      "cell_type": "code",
      "source": [
        "# 한글 외에 모든 글자 제거\n",
        "\n",
        "def text_cleaning(text):\n",
        "  hangul = re.compile('[^ ㄱ-ㅣ 가-힣]+')\n",
        "\n",
        "# 지정한 정규식에 해당하지 않는것은 길이가 0인 문자열로 반환\n",
        "  result = hangul.sub(\"\",text)\n",
        "  return result"
      ],
      "metadata": {
        "id": "pdEDJRw7fmdi"
      },
      "execution_count": null,
      "outputs": []
    },
    {
      "cell_type": "code",
      "source": [
        "df[\"ko_riew\"] = df[\"sentence\"].apply(lambda x: text_cleaning(x))"
      ],
      "metadata": {
        "id": "mH45gW6jhWi7"
      },
      "execution_count": null,
      "outputs": []
    },
    {
      "cell_type": "code",
      "source": [
        "df = df.rename(columns = {\"ko_riew\": \"ko_review\"})"
      ],
      "metadata": {
        "id": "hMXCkcJQkkNF"
      },
      "execution_count": null,
      "outputs": []
    },
    {
      "cell_type": "code",
      "source": [
        "df"
      ],
      "metadata": {
        "id": "FOKjyOH0hlhj"
      },
      "execution_count": null,
      "outputs": []
    },
    {
      "cell_type": "code",
      "source": [
        "# 원래 칼럼 제거\n",
        "\n",
        "# df.drop(\"sentence\", axis=1, inplace =True)\n",
        "# df"
      ],
      "metadata": {
        "id": "lmSMAQIoh1fi"
      },
      "execution_count": null,
      "outputs": []
    },
    {
      "cell_type": "code",
      "source": [
        "# 형태소 분석\n",
        "\n",
        "# konlpy 라이브러리로 텍스트 데이터에서 형태소 추출\n",
        "\n",
        "def get_pos(x):\n",
        "  tagger = Okt()\n",
        "  pos = tagger.pos(x)\n",
        "\n",
        "  # 단어와 품사를 합쳐서 하나의 단어로 만들어주기\n",
        "  result=[]\n",
        "\n",
        "  # 1. 형태소의 수만큼 반복 2. 조사와 명사인 것이 같을 수 있기 때문에 구분하기 3. 형태소 벡터 만들때 추후 사용\n",
        "  for a1 in pos:\n",
        "    result.append(f'{a1[0]}/{a1[1]}')\n",
        "\n",
        "  return result\n"
      ],
      "metadata": {
        "id": "LtapTS73iveL"
      },
      "execution_count": null,
      "outputs": []
    },
    {
      "cell_type": "code",
      "source": [
        "# 예시\n",
        "get_pos(df.loc[986][\"ko_review\"])"
      ],
      "metadata": {
        "id": "rihXScXpjrRB"
      },
      "execution_count": null,
      "outputs": []
    },
    {
      "cell_type": "code",
      "source": [
        "# 형태소 벡터 생성\n",
        "\n",
        "index_vectorizer = CountVectorizer(tokenizer=lambda x: get_pos(x))\n",
        "X = index_vectorizer.fit_transform(df[\"ko_review\"].tolist())\n",
        "X"
      ],
      "metadata": {
        "id": "SsH6s2ATkcXi"
      },
      "execution_count": null,
      "outputs": []
    },
    {
      "cell_type": "code",
      "source": [
        "# 단어장 완성\n",
        "index_vectorizer.vocabulary_"
      ],
      "metadata": {
        "id": "IxjDSCPll0J6"
      },
      "execution_count": null,
      "outputs": []
    },
    {
      "cell_type": "code",
      "source": [
        "print(df[\"ko_review\"][0])\n",
        "print(df[\"y\"][0])\n",
        "print(X[0])"
      ],
      "metadata": {
        "id": "Q2BSdqHol4oD"
      },
      "execution_count": null,
      "outputs": []
    },
    {
      "cell_type": "code",
      "source": [
        "# 형태소 벡터를 TF-IDF 벡터로 생성\n",
        "\n",
        "tfid_vectorizer = TfidfTransformer()\n",
        "\n",
        "X = tfid_vectorizer.fit_transform(X)\n",
        "print(X[0])"
      ],
      "metadata": {
        "id": "h5kzalXgmQ5T"
      },
      "execution_count": null,
      "outputs": []
    },
    {
      "cell_type": "code",
      "source": [
        "# 학습데이터 생성\n",
        "\n",
        "y=df[\"y\"]"
      ],
      "metadata": {
        "id": "pZnYBP0fmil6"
      },
      "execution_count": null,
      "outputs": []
    },
    {
      "cell_type": "code",
      "source": [
        "#  KNN\n",
        "\n",
        "params = {\n",
        "    \"n_neighbors\" : list(range(1,11))\n",
        "}\n",
        "\n",
        "# 사용할 모델 객체 생성\n",
        "\n",
        "m1 = KNeighborsClassifier()\n",
        "\n",
        "kfold = KFold(n_splits=10, shuffle = True, random_state =1)\n",
        "\n",
        "grid_clf1 = GridSearchCV(m1, param_grid = params, scoring=\"f1\", cv=kfold)\n",
        "grid_clf1.fit(X,y)\n",
        "\n",
        "print(f\"최적의 하이퍼 파라미터 : {grid_clf1.best_params_}\")\n",
        "print(f\"최적의 모델 평균 성능 : {grid_clf1.best_score_}\")"
      ],
      "metadata": {
        "id": "sDVmgcZmuZSa"
      },
      "execution_count": null,
      "outputs": []
    },
    {
      "cell_type": "code",
      "source": [
        "# LogisticRegression\n",
        "\n",
        "params = {\n",
        "    \"penalty\" : [\"11\", \"12\", \"elasticnet\", \"none\"],\n",
        "    \"C\" : [0.0001, 0.001, 0.01, 0.1, 1, 10, 100, 1000, 10000]\n",
        "}\n",
        "\n",
        "m2 = LogisticRegression()\n",
        "\n",
        "grid_clf2 = GridSearchCV(m2, param_grid = params, scoring=\"f1\", cv=kfold)\n",
        "grid_clf2.fit(X,y)\n",
        "\n",
        "print(f\"최적의 하이퍼 파라미터 : {grid_clf2.best_params_}\")\n",
        "print(f\"최적의 모델 평균 성능 : {grid_clf2.best_score_}\")"
      ],
      "metadata": {
        "id": "tMZASW9qukWj"
      },
      "execution_count": null,
      "outputs": []
    },
    {
      "cell_type": "code",
      "source": [
        "# SVM\n",
        "\n",
        "parmas = {\n",
        "    \"C\" : [0.0001, 0.001, 0.01, 0.1, 1,10,100,1000,10000]\n",
        "}\n",
        "\n",
        "m3 = SVC()\n",
        "\n",
        "grid_clf3 = GridSearchCV(m3, param_grid = params, scoring=\"f1\", cv=kfold)\n",
        "grid_clf3.fit( X, y)\n",
        "\n",
        "print(f\"최적의 하이퍼 파라미터 : {grid_clf3.best_params_}\")\n",
        "print(f\"최적의 모델 평균 성능 : {grid_clf3.best_score_}\")"
      ],
      "metadata": {
        "id": "_pBRDYeKxLN1"
      },
      "execution_count": null,
      "outputs": []
    },
    {
      "cell_type": "code",
      "source": [
        "# RandomForest\n",
        "# n_estimators : 사용할 트리의 개수\n",
        "# max_depth : 생성될 최대 질문 깊이, None은 무한대.\n",
        "\n",
        "params = {\n",
        "    \"n_estimators\": [50,100,150,200,250,300],\n",
        "    \"max_depth\": [None, 1,2,3,4,5,6,7,8,9,10]\n",
        "}\n",
        "\n",
        "m4 = RandomForestClassifier(random_state =1)\n",
        "\n",
        "grid_clf4 = GridSearchCV(m4, param_grid = params, scoring=\"f1\", cv=kfold)\n",
        "grid_clf4.fit( X, y)\n",
        "\n",
        "print(f\"최적의 하이퍼 파라미터 : {grid_clf4.best_params_}\")\n",
        "print(f\"최적의 모델 평균 성능 : {grid_clf4.best_score_}\")\n"
      ],
      "metadata": {
        "id": "hqYHsVbSzvx4"
      },
      "execution_count": null,
      "outputs": []
    },
    {
      "cell_type": "code",
      "source": [
        "# XGBoost\n",
        "\n",
        "params  = {\n",
        "    \"booster\": [\"gbtree\", \"gblinear\"],\n",
        "    \"leanring_rate\": [0.0001,0.001,0.01,0.1,1,10,100,1000,10000],\n",
        "    \"n_estimators\": [50,100,150,200,250,300]\n",
        "}\n",
        "\n",
        "m5 = XGBClassifier(silent=True, verbosity=0)\n",
        "\n",
        "grid_clf5 = GridSearchCV(m5, param_grid = params, scoring=\"f1\", cv=kfold)\n",
        "grid_clf5.fit( X, y)\n",
        "\n",
        "print(f\"최적의 하이퍼 파라미터 : {grid_clf5.best_params_}\")\n",
        "print(f\"최적의 모델 평균 성능 : {grid_clf5.best_score_}\")\n"
      ],
      "metadata": {
        "id": "kgmMjsoj0TGb"
      },
      "execution_count": null,
      "outputs": []
    },
    {
      "cell_type": "code",
      "source": [
        "print(grid_clf1.best_score_)\n",
        "print(grid_clf2.best_score_)\n",
        "print(grid_clf3.best_score_)\n",
        "print(grid_clf4.best_score_)\n",
        "print(grid_clf5.best_score_) "
      ],
      "metadata": {
        "id": "J1oiY0Md2bNW"
      },
      "execution_count": null,
      "outputs": []
    },
    {
      "cell_type": "code",
      "source": [
        "model = grid_clf4.best_estimator_\n",
        "\n",
        "# 상관계수 구하기\n",
        "a1 = (model.coef_[0])\n",
        "display(a1)\n",
        "len(a1)"
      ],
      "metadata": {
        "id": "JeSEDVE15ZaG"
      },
      "execution_count": null,
      "outputs": []
    },
    {
      "cell_type": "code",
      "source": [
        "from collections import Counter\n",
        "from konlpy.tag import Okt\n",
        "import pytagcloud"
      ],
      "metadata": {
        "id": "_etpSZ3ACIwh"
      },
      "execution_count": null,
      "outputs": []
    },
    {
      "cell_type": "code",
      "source": [
        "okt = Okt()\n",
        "nouns = okt.nouns(df)\n",
        "print(nouns)"
      ],
      "metadata": {
        "id": "tqMt3qhN5ll8"
      },
      "execution_count": null,
      "outputs": []
    },
    {
      "cell_type": "code",
      "source": [],
      "metadata": {
        "id": "A6tQlC7jCAZE"
      },
      "execution_count": null,
      "outputs": []
    }
  ]
}